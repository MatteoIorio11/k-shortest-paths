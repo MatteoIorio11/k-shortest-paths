{
 "cells": [
  {
   "attachments": {},
   "cell_type": "markdown",
   "metadata": {},
   "source": [
    "# K-Shortest Path using Dijkstra\n",
    "Sia dato un grafo orientato e pesato *G=(V,A)* con *n* vertici, numerati da 1 a *n*, e con archi *(i,j)* di costo non negativo $c_{ij}$. Supponiamo di voler determinare il cammino *P* di costo minimo dal vertice *s* al vertice *d*.\n",
    "\n",
    "L'algoritmo di **Dijkstra** si serve di una lista in cui vengono memorizzate le coppie vertice-costo $(i, l_i)$, dove *i* è un vertice raggiungibile tramite un cammino semplice con origine in *s* e di costo $l_i$.; per tenere traccia di tale cammino, viene memorizzato per ogni vertice *i* incluso in lista il vertice che lo precede nel cammino da *s* a *i*. \n",
    "\n",
    "La lista viene inizializzata inserendo la coppia $(s,0)$. Ad ogni iterazione viene estratta dalla lista la coppia $(i, l_i)$, con costo $l_i$ minore e e vengono presi in considerazione i vertici successivi a *i*, cioè i vertici *j* tali che $(i, j) \\in A$; se il vertice *j* non è già presente, in lista viene inserita la coppia $(i, l_i + c_{ij})$, altrimenti si confronta il costo appena ottenuto con quello che era stato precedentemente calcolato e si mantiene quello minore.\n",
    "\n",
    " L'algoritmo termina quando il vertice della coppia estratta dalla lista è il vertice *d*. \n",
    "\n",
    "\n",
    "\n",
    "Di seguito viene presentato in dettaglio l'Algoritmo di **Dijkstra**.  "
   ]
  },
  {
   "cell_type": "code",
   "execution_count": 9,
   "metadata": {},
   "outputs": [],
   "source": [
    "import heapq\n",
    "import numpy as np\n",
    "import csv\n",
    "from graph import Graph, Dijkstra, K_Dijkstra\n",
    "import matplotlib as plt"
   ]
  },
  {
   "attachments": {},
   "cell_type": "markdown",
   "metadata": {},
   "source": [
    "![Dijsktra](./Images/dijkstra.png)"
   ]
  },
  {
   "attachments": {},
   "cell_type": "markdown",
   "metadata": {},
   "source": [
    "My python implementation:\n",
    "```python\n",
    "def Dijkstra(graph: Graph, start: int, destination: int):\n",
    "    \"\"\"_summary_\n",
    "\n",
    "    Args:\n",
    "        graph (Graph): Graph, where all the vertex are stored\n",
    "        start (int): starting vertex\n",
    "        destination (int): destination vertex\n",
    "\n",
    "    Returns:\n",
    "        list : path from start to destination\n",
    "    \"\"\"\n",
    "    if graph.getVertex(start) == None or graph.getVertex(destination) == None:\n",
    "        return []\n",
    "    l_i = np.full(graph.getSize()+1, float('inf'))\n",
    "    l_i[start] = 0\n",
    "    Pred = np.full(graph.getSize()+1, -1)\n",
    "    heap = []\n",
    "    heapq.heapify(heap)\n",
    "    heapq.heappush(heap, (0, start))\n",
    "    curr_vertex = start\n",
    "    while curr_vertex != destination and len(heap) > 0:\n",
    "        cost, curr_vertex = heapq.heappop(heap)\n",
    "        if curr_vertex != destination:\n",
    "            for vertex_value, cost in graph.getVertex(curr_vertex).getneighbors().items():\n",
    "                distance = l_i[curr_vertex] + cost\n",
    "                if l_i[vertex_value.getVertex()] > distance:\n",
    "                    l_i[vertex_value.getVertex()] = distance\n",
    "                    heapq.heappush(heap, (l_i[vertex_value.getVertex()], vertex_value.getVertex()))\n",
    "                    Pred[vertex_value.getVertex()] = curr_vertex\n",
    "        \n",
    "    def build_path():\n",
    "        path = [destination]\n",
    "        print(destination)\n",
    "        curr_vertex = destination\n",
    "        while curr_vertex != start:\n",
    "            curr_vertex = Pred[curr_vertex]\n",
    "            print(curr_vertex)\n",
    "            path.append(curr_vertex)\n",
    "        \n",
    "        path.reverse()\n",
    "        return path\n",
    "        \n",
    "    return build_path()\n",
    "```"
   ]
  },
  {
   "attachments": {},
   "cell_type": "markdown",
   "metadata": {},
   "source": [
    "La funzione ``Heap.Empty()`` crea una lista vuota. La funzione ``Heap.Pop()`` estrae dalla lista la coppia $(j, l_j)$ con $l_j$ minore. La funzione ``Heap.Push``$(j, l_j)$ inserisce la coppia $(j, l_j)$ in lista; nel caso in lista sia già presente una coppia $(j, l_j'$) si mantiene solo il valore minore tra: $l_j$ e $l_j'$. \n",
    "\n",
    "In ``Pred(j)`` si memoriza il vertice che precede $j$ nel cammino di costo minore da $s$ a $j$ disponibile fino a quel momento; si tratta del vertice *i* in cui ci si trovava quando è stata aggiunta in lista la coppia $(j, l_j)$.  \n",
    "\n",
    "Una volta terminato l'algoritmo l'ultima coppia estratta dalla lista sarà del tipo $(d,c)$ e si avrà ``Pred(d)=``$x_{r-1}$, cioè lo *shortest path* da *s* a *d* ha costo *c* e il vertice precedente a *d* in tale cammino è il vertice $x_{r-1}$; per determinare gli altri vertici del cammino si controlla prima ``Pred(``$x_{r-1}$``)`` e si prosegue poi a ritroso. \n",
    "\n",
    "Come già anticipato, l'Algoritmo di Dijkstra può anche essere modificato e ampliato per ottenere i primi *K* cammini meno costosi. In questo caso un elemento della lista è il vettore $(j, l, i, k')$: *j* rappresenta un nodo raggiungibile con un cammino di costo *l* a partire da *s* e il cui vertice precedente in tale cammino è il vertice i; $k'$ indica quale tra i cammini meno costosi è quello utilizzato per congiungere $s$ ad $i$. *Pred* diventa una matrice $n \\times K$. L'assegnazione $Pred(i, k_i)=(h, k')$ indica che il $k_iesimo$ miglior cammino trovato da *s* a *i* è ottenuto unendo l'arco $(h, i)$ al $k'-esimo$ miglior cammino da *s* a *h*. L'algoritmo diventa:  "
   ]
  },
  {
   "attachments": {},
   "cell_type": "markdown",
   "metadata": {},
   "source": [
    "![K-Shortest-Path](./Images/k-shortest.png)"
   ]
  },
  {
   "attachments": {},
   "cell_type": "markdown",
   "metadata": {},
   "source": [
    "My python implementation\n",
    "```python\n",
    "\n",
    "def K_Dijkstra(graph: Graph, start: int, destination: int, k: int):\n",
    "    \"\"\"_summary_\n",
    "\n",
    "    Args:\n",
    "        graph (Graph): Graph, where all the vertex are stored\n",
    "        start (int): starting Vertex\n",
    "        destination (int): destination Vertex\n",
    "        k (int): how many paths must be generated\n",
    "\n",
    "    Returns:\n",
    "        list(list): where all the k-paths are stored from start to destination \n",
    "    \"\"\"\n",
    "    paths = []\n",
    "    heap = [(0, [], start)]\n",
    "    while heap and len(paths) < k:\n",
    "        cost, path, current_node = heapq.heappop(heap)\n",
    "        path = path + [current_node]\n",
    "        if current_node and current_node == destination:\n",
    "            paths.append(path)\n",
    "        elif graph.getVertex(current_node):\n",
    "            for neighbor, weight in graph.getVertex(current_node).getneighbors().items():\n",
    "                if neighbor.getVertex() not in path:\n",
    "                    heapq.heappush(heap, (cost + weight, path, neighbor.getVertex()))\n",
    "\n",
    "    return paths\n",
    "```"
   ]
  },
  {
   "cell_type": "code",
   "execution_count": 10,
   "metadata": {},
   "outputs": [
    {
     "name": "stdout",
     "output_type": "stream",
     "text": [
      "Node : Start 1, Neighbor 2, Cost 5\n",
      "Node : Start 1, Neighbor 3, Cost 9\n",
      "Node : Start 1, Neighbor 5, Cost 6\n",
      "Node : Start 2, Neighbor 3, Cost 3\n",
      "Node : Start 2, Neighbor 6, Cost 2\n",
      "Node : Start 3, Neighbor 4, Cost 8\n",
      "Node : Start 3, Neighbor 7, Cost 3\n",
      "Node : Start 4, Neighbor 5, Cost 1\n",
      "Node : Start 4, Neighbor 9, Cost 2\n",
      "Node : Start 5, Neighbor 6, Cost 7\n",
      "Node : Start 5, Neighbor 10, Cost 4\n",
      "Node : Start 6, Neighbor 7, Cost 5\n",
      "Node : Start 6, Neighbor 11, Cost 8\n",
      "Node : Start 7, Neighbor 8, Cost 1\n",
      "Node : Start 7, Neighbor 12, Cost 4\n",
      "Node : Start 8, Neighbor 9, Cost 6\n",
      "Node : Start 8, Neighbor 13, Cost 2\n",
      "Node : Start 9, Neighbor 10, Cost 3\n",
      "Node : Start 9, Neighbor 14, Cost 7\n",
      "Node : Start 10, Neighbor 11, Cost 9\n",
      "Node : Start 10, Neighbor 15, Cost 4\n",
      "Node : Start 11, Neighbor 12, Cost 6\n",
      "Node : Start 11, Neighbor 16, Cost 3\n",
      "Node : Start 12, Neighbor 13, Cost 1\n",
      "Node : Start 12, Neighbor 17, Cost 5\n",
      "Node : Start 13, Neighbor 14, Cost 4\n",
      "Node : Start 13, Neighbor 18, Cost 9\n",
      "Node : Start 14, Neighbor 15, Cost 7\n",
      "Node : Start 14, Neighbor 19, Cost 3\n",
      "Node : Start 15, Neighbor 16, Cost 2\n",
      "Node : Start 15, Neighbor 20, Cost 8\n",
      "Node : Start 16, Neighbor 17, Cost 5\n",
      "Node : Start 16, Neighbor 21, Cost 1\n",
      "Node : Start 17, Neighbor 18, Cost 2\n",
      "Node : Start 17, Neighbor 22, Cost 7\n",
      "Node : Start 18, Neighbor 19, Cost 4\n",
      "Node : Start 18, Neighbor 23, Cost 6\n",
      "Node : Start 19, Neighbor 20, Cost 8\n",
      "Node : Start 19, Neighbor 24, Cost 3\n",
      "Node : Start 20, Neighbor 21, Cost 1\n",
      "Node : Start 20, Neighbor 25, Cost 4\n",
      "Node : Start 21, Neighbor 22, Cost 3\n",
      "Node : Start 21, Neighbor 26, Cost 2\n",
      "Node : Start 22, Neighbor 23, Cost 1\n",
      "Node : Start 22, Neighbor 27, Cost 8\n",
      "Node : Start 23, Neighbor 24, Cost 6\n",
      "Node : Start 23, Neighbor 28, Cost 7\n",
      "Node : Start 24, Neighbor 25, Cost 5\n",
      "Node : Start 24, Neighbor 29, Cost 1\n",
      "Node : Start 25, Neighbor 26, Cost 9\n",
      "Node : Start 25, Neighbor 30, Cost 3\n",
      "Node : Start 26, Neighbor 27, Cost 5\n",
      "Node : Start 27, Neighbor 28, Cost 7\n",
      "Node : Start 28, Neighbor 29, Cost 1\n",
      "Node : Start 29, Neighbor 30, Cost 6\n",
      "29\n",
      "K-Dijkstra: [[1, 5, 10], [1, 2, 3, 4, 5, 10], [1, 2, 3, 4, 9, 10]]\n"
     ]
    }
   ],
   "source": [
    "graph = Graph()\n",
    "with open('graph.csv', 'r') as file:\n",
    "    reader = csv.reader(file)\n",
    "    for row in reader:\n",
    "        v1 = int(row[0])\n",
    "        v2 = int(row[1])\n",
    "        cost = int(row[2])\n",
    "        graph.addArch(v1, v2, cost)\n",
    "        print(f\"Node : Start {v1}, Neighbor {v2}, Cost {cost}\")\n",
    "\n",
    "print(graph.getSize())\n",
    "\n",
    "print(f\"K-Dijkstra: {K_Dijkstra(graph, 1, 10, 3)}\")"
   ]
  },
  {
   "cell_type": "code",
   "execution_count": 16,
   "metadata": {},
   "outputs": [
    {
     "name": "stdout",
     "output_type": "stream",
     "text": [
      "19\n",
      "14\n",
      "13\n",
      "8\n",
      "7\n",
      "3\n",
      "2\n",
      "1\n",
      "Dijkstra: [1, 2, 3, 7, 8, 13, 14, 19]\n"
     ]
    }
   ],
   "source": [
    "print(f\"Dijkstra: {Dijkstra(graph, 1, 19)}\")\n"
   ]
  }
 ],
 "metadata": {
  "kernelspec": {
   "display_name": "Python 3",
   "language": "python",
   "name": "python3"
  },
  "language_info": {
   "codemirror_mode": {
    "name": "ipython",
    "version": 3
   },
   "file_extension": ".py",
   "mimetype": "text/x-python",
   "name": "python",
   "nbconvert_exporter": "python",
   "pygments_lexer": "ipython3",
   "version": "3.10.6"
  },
  "orig_nbformat": 4
 },
 "nbformat": 4,
 "nbformat_minor": 2
}
