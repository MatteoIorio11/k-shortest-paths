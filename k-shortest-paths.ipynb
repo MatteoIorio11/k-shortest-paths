{
 "cells": [
  {
   "attachments": {},
   "cell_type": "markdown",
   "metadata": {},
   "source": [
    "# K-Shortest Path using Dijkstra\n",
    "Sia dato un grafo orientato e pesato *G=(V,A)* con *n* vertici, numerati da 1 a *n*, e con archi *(i,j)* di costo non negativo $c_{ij}$. Supponiamo di voler determinare il cammino *P* di costo minimo dal vertice *s* al vertice *d*.\n",
    "\n",
    "L'algoritmo di **Dijkstra** si serve di una lista in cui vengono memorizzate le coppie vertice-costo $(i, l_i)$, dove *i* è un vertice raggiungibile tramite un cammino semplice con origine in *s* e di costo $l_i$.; per tenere traccia di tale cammino, viene memorizzato per ogni vertice *i* incluso in lista il vertice che lo precede nel cammino da *s* a *i*. \n",
    "\n",
    "La lista viene inizializzata inserendo la coppia $(s,0)$. Ad ogni iterazione viene estratta dalla lista la coppia $(i, l_i)$, con costo $l_i$ minore e e vengono presi in considerazione i vertici successivi a *i*, cioè i vertici *j* tali che $(i, j) \\in A$; se il vertice *j* non è già presente, in lista viene inserita la coppia $(i, l_i + c_{ij})$, altrimenti si confronta il costo appena ottenuto con quello che era stato precedentemente calcolato e si mantiene quello minore.\n",
    "\n",
    " L'algoritmo termina quando il vertice della coppia estratta dalla lista è il vertice *d*. \n",
    "\n",
    "\n",
    "\n",
    "Di seguito viene presentato in dettaglio l'Algoritmo di **Dijkstra**.  "
   ]
  },
  {
   "cell_type": "code",
   "execution_count": 1,
   "metadata": {},
   "outputs": [],
   "source": [
    "import numpy as np\n",
    "import csv\n",
    "from graph import Graph, K_Dijkstra, K_DijkstraV2\n",
    "import matplotlib.pyplot as plt\n",
    "import networkx as nx\n",
    "from ipywidgets import interact, Dropdown, IntText, Checkbox\n",
    "import pandas as pd\n",
    "import os\n",
    "import time "
   ]
  },
  {
   "attachments": {},
   "cell_type": "markdown",
   "metadata": {},
   "source": [
    "![Dijsktra](./Images/dijkstra.png)"
   ]
  },
  {
   "attachments": {},
   "cell_type": "markdown",
   "metadata": {},
   "source": [
    "My python implementation:\n",
    "```python\n",
    "def Dijkstra(graph: Graph, start: int, destination: int):\n",
    "    \"\"\"_summary_\n",
    "\n",
    "    Args:\n",
    "        graph (Graph): Graph, where all the vertex are stored\n",
    "        start (int): starting vertex\n",
    "        destination (int): destination vertex\n",
    "\n",
    "    Returns:\n",
    "        list : path from start to destination\n",
    "    \"\"\"\n",
    "    if graph.getVertex(start) == None or graph.getVertex(destination) == None:\n",
    "        return []\n",
    "    l_i = np.full(graph.getSize()+1, float('inf'))\n",
    "    l_i[start] = 0\n",
    "    Pred = np.full(graph.getSize()+1, -1)\n",
    "    heap = []\n",
    "    heapq.heapify(heap)\n",
    "    heapq.heappush(heap, (0, start))\n",
    "    curr_vertex = start\n",
    "    while curr_vertex != destination and len(heap) > 0:\n",
    "        cost, curr_vertex = heapq.heappop(heap)\n",
    "        if curr_vertex != destination:\n",
    "            for vertex_value, cost in graph.getVertex(curr_vertex).getneighbors().items():\n",
    "                distance = l_i[curr_vertex] + cost\n",
    "                if l_i[vertex_value.getVertex()] > distance:\n",
    "                    l_i[vertex_value.getVertex()] = distance\n",
    "                    heapq.heappush(heap, (l_i[vertex_value.getVertex()], vertex_value.getVertex()))\n",
    "                    Pred[vertex_value.getVertex()] = curr_vertex\n",
    "        \n",
    "    def build_path():\n",
    "        path = [destination]\n",
    "        curr_vertex = destination\n",
    "        while curr_vertex != start:\n",
    "            curr_vertex = Pred[curr_vertex]\n",
    "            path.append(curr_vertex)\n",
    "        \n",
    "        path.reverse()\n",
    "        return path\n",
    "        \n",
    "    return build_path()\n",
    "```"
   ]
  },
  {
   "attachments": {},
   "cell_type": "markdown",
   "metadata": {},
   "source": [
    "La funzione ``Heap.Empty()`` crea una lista vuota. La funzione ``Heap.Pop()`` estrae dalla lista la coppia $(j, l_j)$ con $l_j$ minore. La funzione ``Heap.Push``$(j, l_j)$ inserisce la coppia $(j, l_j)$ in lista; nel caso in lista sia già presente una coppia $(j, l_j'$) si mantiene solo il valore minore tra: $l_j$ e $l_j'$. \n",
    "\n",
    "In ``Pred(j)`` si memoriza il vertice che precede $j$ nel cammino di costo minore da $s$ a $j$ disponibile fino a quel momento; si tratta del vertice *i* in cui ci si trovava quando è stata aggiunta in lista la coppia $(j, l_j)$.  \n",
    "\n",
    "Una volta terminato l'algoritmo l'ultima coppia estratta dalla lista sarà del tipo $(d,c)$ e si avrà ``Pred(d)=``$x_{r-1}$, cioè lo *shortest path* da *s* a *d* ha costo *c* e il vertice precedente a *d* in tale cammino è il vertice $x_{r-1}$; per determinare gli altri vertici del cammino si controlla prima ``Pred(``$x_{r-1}$``)`` e si prosegue poi a ritroso. \n",
    "\n",
    "Come già anticipato, l'Algoritmo di Dijkstra può anche essere modificato e ampliato per ottenere i primi *K* cammini meno costosi. In questo caso un elemento della lista è il vettore $(j, l, i, k')$: *j* rappresenta un nodo raggiungibile con un cammino di costo *l* a partire da *s* e il cui vertice precedente in tale cammino è il vertice i; $k'$ indica quale tra i cammini meno costosi è quello utilizzato per congiungere $s$ ad $i$. *Pred* diventa una matrice $n \\times K$. L'assegnazione $Pred(i, k_i)=(h, k')$ indica che il $k_iesimo$ miglior cammino trovato da *s* a *i* è ottenuto unendo l'arco $(h, i)$ al $k'-esimo$ miglior cammino da *s* a *h*. L'algoritmo diventa:  "
   ]
  },
  {
   "attachments": {},
   "cell_type": "markdown",
   "metadata": {},
   "source": [
    "![K-Shortest-Path](./Images/k-shortest.png)"
   ]
  },
  {
   "attachments": {},
   "cell_type": "markdown",
   "metadata": {},
   "source": [
    "### Versione con grafo semplice\n",
    "```python\n",
    "\n",
    "def K_Dijkstra(graph: Graph, start: int, destination: int, k: int):\n",
    "    \"\"\"_summary_\n",
    "\n",
    "    Args:\n",
    "        graph (Graph): Graph, where all the vertex are stored\n",
    "        start (int): starting Vertex\n",
    "        destination (int): destination Vertex\n",
    "        k (int): how many paths must be generated\n",
    "\n",
    "    Returns:\n",
    "        list(list): where all the k-paths are stored from start to destination \n",
    "    \"\"\"\n",
    "    paths = []\n",
    "    heap = [(0, [], start)]\n",
    "    while heap and len(paths) < k:\n",
    "        cost, path, current_node = heapq.heappop(heap)\n",
    "        path = path + [current_node]\n",
    "        if current_node and current_node == destination:\n",
    "            paths.append((path, cost))\n",
    "        elif graph.getVertex(current_node):\n",
    "            for neighbor, weight in graph.getVertex(current_node).getneighbors().items():\n",
    "                if neighbor.getVertex() not in path:\n",
    "                    heapq.heappush(heap, (cost + weight, path, neighbor.getVertex()))\n",
    "\n",
    "    return paths\n",
    "```\n",
    "\n"
   ]
  },
  {
   "attachments": {},
   "cell_type": "markdown",
   "metadata": {},
   "source": [
    "### Versione con Networkx\n",
    "Seconda versione della funzione in cui si va ad utilizzare la libreria **networkx** per la gestione dell'intero grafo.\n",
    "\n",
    "```python\n",
    "def K_DijkstraV2(graph: nx.Graph, start: int, destination: int, k: int):\n",
    "    \"\"\"_summary_\n",
    "\n",
    "    Args:\n",
    "        graph (Graph): Graph, where all the vertex are stored\n",
    "        start (int): starting Vertex\n",
    "        destination (int): destination Vertex\n",
    "        k (int): how many paths must be generated\n",
    "\n",
    "    Returns:\n",
    "        list(list): where all the k-paths are stored from start to destination \n",
    "    \"\"\"\n",
    "    paths = []\n",
    "    heap = [(0, [], start)]\n",
    "    while heap and len(paths) < k:\n",
    "        cost, path, current_node = heapq.heappop(heap)\n",
    "        path = path + [current_node]\n",
    "        if current_node and current_node == destination:\n",
    "            paths.append((path, cost))\n",
    "        else:\n",
    "            for neighbor in graph[current_node]:\n",
    "                if neighbor not in path:\n",
    "                    heapq.heappush(heap, (cost + graph.get_edge_data(current_node, neighbor)[\"weight\"], path, neighbor))\n",
    "\n",
    "    return paths\n",
    "```"
   ]
  },
  {
   "attachments": {},
   "cell_type": "markdown",
   "metadata": {},
   "source": [
    "Come si può vedere la mia funzione presenta una differenza con lo pseudocodice, non viene utilizzata la lista dei *predecessori*, **PRED**. La scelta che mi ha portato a compiere questa modifica è stata per un motivo di pura *efficienza*. \n",
    "\n",
    "Se avessi dovuto utilizzare anche la lista dei *predecessori*, mi sarei dovuto occupare poi di costruire le soluzioni tramite questa *lista*, andando a sprecare tempo e memoria per realizzare tutte e *K* le shortest path, invece nella mia versione le *path* sono già salvate all'interno della *heap*, in questo modo, una volta raggiunto il nodo *destinazione*, inserisco già tutta la *path* all'interno della lista di output. "
   ]
  },
  {
   "attachments": {},
   "cell_type": "markdown",
   "metadata": {},
   "source": [
    "## File\n",
    "All'interno di questa lista sono presenti tutti i file in cui sono salvati i *grafi*. "
   ]
  },
  {
   "cell_type": "code",
   "execution_count": 3,
   "metadata": {},
   "outputs": [],
   "source": [
    "file_list = ['./graphs/graph.csv', './graphs/graph2.csv', './graphs/graph3.csv', './graphs/graph4.csv', './graphs/USA-road-d.NY.csv']"
   ]
  },
  {
   "cell_type": "code",
   "execution_count": 3,
   "metadata": {},
   "outputs": [],
   "source": [
    "def fromPathToGraph(path:list):\n",
    "    G = nx.Graph()\n",
    "    for index in range(0, len(path)-1):\n",
    "        G.add_edge(path[index], path[index+1])\n",
    "    return G"
   ]
  },
  {
   "attachments": {},
   "cell_type": "markdown",
   "metadata": {},
   "source": [
    "# Vista del grafo\n",
    "All'interno di questo progetto è presente una cartella denominata *graphs*, al cui interno sono presenti un insieme di file *csv*. Tutto il grafo viene salvato come: *nodo1, nodo2, costo*. Attraverso questa prima funzione è possibile **visualizzare** il grafo scelto tramite il *dropdown*, selezionando poi la *checkbox* verrà visualizzato l'intero grafo. Si faccia attenzione che nel caso in cui il grafo sia **molto grande** tale funzione potrebbe bloccarsi a causa della dimensione del *grafo* stesso."
   ]
  },
  {
   "cell_type": "code",
   "execution_count": 4,
   "metadata": {},
   "outputs": [
    {
     "data": {
      "application/vnd.jupyter.widget-view+json": {
       "model_id": "d9882fcf46f54b9aa0c5f53c3b813b69",
       "version_major": 2,
       "version_minor": 0
      },
      "text/plain": [
       "interactive(children=(Dropdown(description='Graph:', options=('./graphs/graph.csv', './graphs/graph2.csv', './…"
      ]
     },
     "metadata": {},
     "output_type": "display_data"
    }
   ],
   "source": [
    "\n",
    "@interact(file=Dropdown(options=file_list, description='Graph:'),\n",
    "                    show=Checkbox(description=\"Plot the graph\"))\n",
    "def selectGraph(file, show): \n",
    "    df = pd.read_csv(file, names=[\"Node1\", \"Node2\", \"weight\"])\n",
    "    G = nx.Graph()\n",
    "    Graphtype = nx.Graph()\n",
    "    G = nx.from_pandas_edgelist(df, source=\"Node1\", target=\"Node2\", edge_attr='weight', create_using=Graphtype)\n",
    "    if(show):\n",
    "        nx.draw_networkx(G, with_labels=True)\n",
    "    \n",
    "    #nx.draw_networkx_edge_labels(G, pos, edge_labels=labels)"
   ]
  },
  {
   "attachments": {},
   "cell_type": "markdown",
   "metadata": {},
   "source": [
    "## Visualizzare le K path\n",
    "Con l'utilizzo della funzione principale di questo progetto, *K-Shortest-Path* è possibile generare esattamente **K** *shortest path* dal nodo **A** al nodo **B**. Sono state definite due funzioni principali:\n",
    "- **plotWithImage**: utilizzando questa funzione verrà visualizzato per ogni *path* l'intero grafo in cui saranno colorati tutti i nodi da **A** a **B**. \n",
    "- **plotWithoutImage**: utilizzando questa funzione verrà solamente visualizzata stringa in cui sono presenti tutti i nodi dal nodo **A** al nodo **B**.\n",
    "\n",
    "Queste funzioni vengono eseguite per ogni *path* sulle totali **K** generate."
   ]
  },
  {
   "cell_type": "code",
   "execution_count": 5,
   "metadata": {},
   "outputs": [],
   "source": [
    "colors = [\"red\", \"orange\", \"yellow\", \"green\", \"cyan\", \"violet\"]\n",
    "l = len(colors)\n",
    "def plotWithImage(paths:list, G):\n",
    "    k=1\n",
    "    for path, cost in paths:\n",
    "        fig, ax = plt.subplots()\n",
    "        ax.set_title(f\"K={k} cost: {cost}\")\n",
    "        nx.draw_networkx(G, node_color=[colors[k % l] if node in path else \"blue\" for node in G], with_labels=True, ax=ax)\n",
    "        print(f\"K:{k} path {path} cost: {cost}\")\n",
    "        k+=1\n",
    "        \n",
    "        \n",
    "def plotWithoutImage(paths:list):\n",
    "    k = 1\n",
    "    for path, cost in paths:\n",
    "        print(f\"K:{k} path {path} cost: {cost}\")\n",
    "        k+=1\n",
    "        "
   ]
  },
  {
   "attachments": {},
   "cell_type": "markdown",
   "metadata": {},
   "source": [
    "# K Paths versione 1\n",
    "Con la prima versione della mia funzione è possibile calcolare le *K* shortest path dal nodo **START** al nodo **DESTINATION**. La funzione lavora su una classe *Graph* realizzata da me, tale classe è scritta all'interno del file *graph.py*:\n",
    "1. La classe **Graph** in cui è salvato interamente l'insieme di tutti i vertici, tutti i vertici sono salvati in un *dizionario* con questo formato *{vertice, [lista vicini]}*.\n",
    "2. La classe **Vertex** che gestisce il singolo *nodo* del nostro grafo, all'interno di questa classe è presente un *dizionario* all'interno del quale sono messi salvati i singoli vincini con i relativi *costi*, *{vicino, costo}*. \n",
    "\n",
    "Sono state utilizzate come strutture dati dei *dizionari* in quanto ho la necessità di avere accessi efficienti ad ogni singolo nodo, in modo da poter accedere e ricavare subito tutti i *vicini* di ogni singolo *nodo* del mio grafo. Se avessi utilizzato altre strutture dati, ad esempio una semplice *lista* l'accesso ad ogni singolo nodo mi sarebbe costato in media *O(n)*, mentre attraverso l'impiego di un *dizionario* l'accesso ad ogni singolo *vertice* avviene in tempo *O(1)*. "
   ]
  },
  {
   "cell_type": "code",
   "execution_count": 25,
   "metadata": {},
   "outputs": [
    {
     "data": {
      "application/vnd.jupyter.widget-view+json": {
       "model_id": "3ea04600c9fd4cb1b5995953877482e0",
       "version_major": 2,
       "version_minor": 0
      },
      "text/plain": [
       "interactive(children=(Dropdown(description='Graph:', options=('./graphs/graph.csv', './graphs/graph2.csv', './…"
      ]
     },
     "metadata": {},
     "output_type": "display_data"
    }
   ],
   "source": [
    "@interact(start=IntText(description='Start:'),\n",
    "          destination=IntText(description='Destination:'),\n",
    "          k=IntText(description='K:', value=1, min=1),\n",
    "          images=Checkbox(description=\"Plot the graph\"),\n",
    "          file=Dropdown(options=file_list, description='Graph:'))\n",
    "def viewKDijkstra(file, start, destination, k, images):\n",
    "    if start < 0 or destination < 0 or k < 0:\n",
    "        print(\"One of the value is negative, please check the input\")\n",
    "        return\n",
    "    df = pd.read_csv(file, header=0, names=['Start', 'Destination', 'Cost'])\n",
    "    G = nx.Graph()\n",
    "    df = pd.read_csv(file, header=0, names=['Start', 'Destination', 'Cost'])\n",
    "    G.add_nodes_from(df['Start'].unique())\n",
    "\n",
    "    for index, row in df.iterrows():\n",
    "        G.add_edge(row['Start'], row['Destination'], weight=row['Cost'])\n",
    "\n",
    "    graph = Graph()\n",
    "    with open(file, 'r') as file:\n",
    "        reader = csv.reader(file)\n",
    "        for row in reader:\n",
    "            v1 = int(row[0])\n",
    "            v2 = int(row[1])\n",
    "            cost = int(row[2])\n",
    "            graph.addArch(v1, v2, cost)\n",
    "    \n",
    "    paths = K_Dijkstra(graph, start=start, destination=destination, k=k)\n",
    "    if len(paths) > 0:\n",
    "        if images:\n",
    "            plotWithImage(paths, G)\n",
    "        else:\n",
    "            plotWithoutImage(paths)\n",
    "    else:\n",
    "        print(f\"The path does not exists, make sure that START: {start} and DESTINATION: {destination} exist inside the graph\")"
   ]
  },
  {
   "attachments": {},
   "cell_type": "markdown",
   "metadata": {},
   "source": [
    "# Performance Versione 1\n",
    "Performance fornite dal dalla prima versione del mio algoritmo, si può scegliere in maniera attiva quante *paths* generare. La performance consiste nel visualizzare *quanto tempo* viene impiegato per generare da *1* a *K* paths."
   ]
  },
  {
   "cell_type": "code",
   "execution_count": 23,
   "metadata": {},
   "outputs": [
    {
     "data": {
      "application/vnd.jupyter.widget-view+json": {
       "model_id": "b8139d613c0c47b2bf6c7f8dcb0aa069",
       "version_major": 2,
       "version_minor": 0
      },
      "text/plain": [
       "interactive(children=(Dropdown(description='Graph:', options=('./graphs/graph.csv', './graphs/graph2.csv', './…"
      ]
     },
     "metadata": {},
     "output_type": "display_data"
    }
   ],
   "source": [
    "@interact(file=Dropdown(options=file_list, description='Graph:'),\n",
    "          kt=IntText(description=\"K:\", value=1, min=1))\n",
    "def plotPerformance(file, kt):\n",
    "    if kt <= 0:\n",
    "        return\n",
    "    graph = Graph()\n",
    "    s = float('inf')        \n",
    "    d = -1\n",
    "    with open(file, 'r') as file:\n",
    "        reader = csv.reader(file)\n",
    "        for row in reader:\n",
    "            v1 = int(row[0])\n",
    "            v2 = int(row[1])\n",
    "            cost = int(row[2])\n",
    "            s = min([v1, v2, s])\n",
    "            d = max([v1, v2, d])\n",
    "            graph.addArch(v1, v2, cost)\n",
    "    x = []\n",
    "    y = []\n",
    "    for k in range(1, kt+1):\n",
    "        start_t = time.time()\n",
    "        _ = K_Dijkstra(graph, start=s, destination=d, k=k)\n",
    "        end_t = time.time()\n",
    "        x.append(k)\n",
    "        y.append(end_t - start_t)\n",
    "        \n",
    "    cmap = plt.colormaps['jet']\n",
    "    norm = plt.Normalize(min(y), max(y))\n",
    "    colors = cmap(norm(y))\n",
    "\n",
    "    fig, (ax1, ax2) = plt.subplots(1, 2, figsize=(20, 8))\n",
    "\n",
    "    \n",
    "    ax1.plot(x, y, linewidth=2.0)\n",
    "    ax1.grid()\n",
    "    ax2.grid()\n",
    "    ax2.scatter(x=x, y=y, c=colors)\n",
    "    ax2.set_title(f\"Performance from {s} to {d}, K: {kt}\")\n",
    "    ax1.set_title(f\"Performance from {s} to {d}, K: {kt}\")\n",
    "\n",
    "    plt.show()\n",
    "\n",
    "    "
   ]
  },
  {
   "attachments": {},
   "cell_type": "markdown",
   "metadata": {},
   "source": [
    "# Performance Versione 2\n",
    "Nella versione 2 del mio algoritmo, al posto di utilizzare la classe *Graph* da me creata ho deciso di utilizzare quella fornita dalla libreria **networkx**. Questa libreria, il cui sviluppo è partito dal *2003*, è realizzata per gestire dei *grafi*. Attraverso l'impiego di questa libreria ho voluto realizzare una versione due della mia funzione, andando ad utilizzare questa libreria per capire quanto più efficiente sarebbe diventata la mia funzione. "
   ]
  },
  {
   "cell_type": "code",
   "execution_count": 24,
   "metadata": {},
   "outputs": [
    {
     "data": {
      "application/vnd.jupyter.widget-view+json": {
       "model_id": "6c11ee049a11446581f470ff0520596c",
       "version_major": 2,
       "version_minor": 0
      },
      "text/plain": [
       "interactive(children=(Dropdown(description='Graph:', options=('./graphs/graph.csv', './graphs/graph2.csv', './…"
      ]
     },
     "metadata": {},
     "output_type": "display_data"
    }
   ],
   "source": [
    "@interact(file=Dropdown(options=file_list, description='Graph:'),\n",
    "          kt=IntText(description=\"K:\", value=1, min=1))\n",
    "def plotPerformanceV2(file, kt):\n",
    "    \n",
    "    df = pd.read_csv(file, names=[\"Node1\", \"Node2\", \"weight\"])\n",
    "    G = nx.Graph()\n",
    "    Graphtype = nx.Graph()\n",
    "    G = nx.from_pandas_edgelist(df, source=\"Node1\", target=\"Node2\", edge_attr='weight', create_using=Graphtype)\n",
    "\n",
    "    x = []\n",
    "    y = []\n",
    "    s = df[\"Node1\"].min()\n",
    "    d = df[\"Node2\"].max()\n",
    "    for k in range(kt):\n",
    "        start_t = time.time()\n",
    "        p = K_DijkstraV2(G, start=s, destination=d, k=k)\n",
    "        end_t = time.time()\n",
    "        x.append(k)\n",
    "        y.append(end_t - start_t)\n",
    "\n",
    "    cmap = plt.colormaps['jet']\n",
    "    norm = plt.Normalize(min(y), max(y))\n",
    "    colors = cmap(norm(y))\n",
    "\n",
    "    fig, (ax1, ax2) = plt.subplots(1, 2, figsize=(20, 8))\n",
    "    \n",
    "        \n",
    "    ax1.plot(x, y, linewidth=2.0)\n",
    "    ax1.grid()\n",
    "    ax2.grid()\n",
    "    ax2.scatter(x=x, y=y, c=colors)\n",
    "    ax2.set_title(f\"Performance from {s} to {d}, K: {kt}\")\n",
    "    ax1.set_title(f\"Performance from {s} to {d}, K: {kt}\")\n",
    "\n",
    "    plt.show()\n",
    "\n",
    "    "
   ]
  }
 ],
 "metadata": {
  "kernelspec": {
   "display_name": "Python 3",
   "language": "python",
   "name": "python3"
  },
  "language_info": {
   "codemirror_mode": {
    "name": "ipython",
    "version": 3
   },
   "file_extension": ".py",
   "mimetype": "text/x-python",
   "name": "python",
   "nbconvert_exporter": "python",
   "pygments_lexer": "ipython3",
   "version": "3.10.6"
  },
  "orig_nbformat": 4
 },
 "nbformat": 4,
 "nbformat_minor": 2
}
