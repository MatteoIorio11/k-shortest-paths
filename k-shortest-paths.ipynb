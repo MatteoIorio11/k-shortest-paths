{
 "cells": [
  {
   "attachments": {},
   "cell_type": "markdown",
   "metadata": {},
   "source": [
    "# K-Shortest Path using Dijkstra\n",
    "Sia dato un grafo orientato e pesato *G=(V,A)* con *n* vertici, numerati da 1 a *n*, e con archi *(i,j)* di costo non negativo $c_{ij}$. Supponiamo di voler determinare il cammino *P* di costo minimo dal vertice *s* al vertice *d*.\n",
    "\n",
    "L'algoritmo di **Dijkstra** si serve di una lista in cui vengono memorizzate le coppie vertice-costo $(i, l_i)$, dove *i* è un vertice raggiungibile tramite un cammino semplice con origine in *s* e di costo $l_i$.; per tenere traccia di tale cammino, viene memorizzato per ogni vertice *i* incluso in lista il vertice che lo precede nel cammino da *s* a *i*. \n",
    "\n",
    "La lista viene inizializzata inserendo la coppia $(s,0)$. Ad ogni iterazione viene estratta dalla lista la coppia $(i, l_i)$, con costo $l_i$ minore e e vengono presi in considerazione i vertici successivi a *i*, cioè i vertici *j* tali che $(i, j) \\in A$; se il vertice *j* non è già presente, in lista viene inserita la coppia $(i, l_i + c_{ij})$, altrimenti si confronta il costo appena ottenuto con quello che era stato precedentemente calcolato e si mantiene quello minore.\n",
    "\n",
    " L'algoritmo termina quando il vertice della coppia estratta dalla lista è il vertice *d*. \n",
    "\n",
    "\n",
    "\n",
    "Di seguito viene presentato in dettaglio l'Algoritmo di **Dijkstra**.  "
   ]
  },
  {
   "cell_type": "code",
   "execution_count": 21,
   "metadata": {},
   "outputs": [],
   "source": [
    "import numpy as np\n",
    "import csv\n",
    "from graph import Graph, K_Dijkstra\n",
    "import matplotlib.pyplot as plt\n",
    "import networkx as nx\n",
    "from ipywidgets import interact, Dropdown, IntText, Checkbox\n",
    "import pandas as pd\n",
    "import os\n",
    "import time "
   ]
  },
  {
   "attachments": {},
   "cell_type": "markdown",
   "metadata": {},
   "source": [
    "![Dijsktra](./Images/dijkstra.png)"
   ]
  },
  {
   "attachments": {},
   "cell_type": "markdown",
   "metadata": {},
   "source": [
    "My python implementation:\n",
    "```python\n",
    "def Dijkstra(graph: Graph, start: int, destination: int):\n",
    "    \"\"\"_summary_\n",
    "\n",
    "    Args:\n",
    "        graph (Graph): Graph, where all the vertex are stored\n",
    "        start (int): starting vertex\n",
    "        destination (int): destination vertex\n",
    "\n",
    "    Returns:\n",
    "        list : path from start to destination\n",
    "    \"\"\"\n",
    "    if graph.getVertex(start) == None or graph.getVertex(destination) == None:\n",
    "        return []\n",
    "    l_i = np.full(graph.getSize()+1, float('inf'))\n",
    "    l_i[start] = 0\n",
    "    Pred = np.full(graph.getSize()+1, -1)\n",
    "    heap = []\n",
    "    heapq.heapify(heap)\n",
    "    heapq.heappush(heap, (0, start))\n",
    "    curr_vertex = start\n",
    "    while curr_vertex != destination and len(heap) > 0:\n",
    "        cost, curr_vertex = heapq.heappop(heap)\n",
    "        if curr_vertex != destination:\n",
    "            for vertex_value, cost in graph.getVertex(curr_vertex).getneighbors().items():\n",
    "                distance = l_i[curr_vertex] + cost\n",
    "                if l_i[vertex_value.getVertex()] > distance:\n",
    "                    l_i[vertex_value.getVertex()] = distance\n",
    "                    heapq.heappush(heap, (l_i[vertex_value.getVertex()], vertex_value.getVertex()))\n",
    "                    Pred[vertex_value.getVertex()] = curr_vertex\n",
    "        \n",
    "    def build_path():\n",
    "        path = [destination]\n",
    "        curr_vertex = destination\n",
    "        while curr_vertex != start:\n",
    "            curr_vertex = Pred[curr_vertex]\n",
    "            path.append(curr_vertex)\n",
    "        \n",
    "        path.reverse()\n",
    "        return path\n",
    "        \n",
    "    return build_path()\n",
    "```"
   ]
  },
  {
   "attachments": {},
   "cell_type": "markdown",
   "metadata": {},
   "source": [
    "La funzione ``Heap.Empty()`` crea una lista vuota. La funzione ``Heap.Pop()`` estrae dalla lista la coppia $(j, l_j)$ con $l_j$ minore. La funzione ``Heap.Push``$(j, l_j)$ inserisce la coppia $(j, l_j)$ in lista; nel caso in lista sia già presente una coppia $(j, l_j'$) si mantiene solo il valore minore tra: $l_j$ e $l_j'$. \n",
    "\n",
    "In ``Pred(j)`` si memoriza il vertice che precede $j$ nel cammino di costo minore da $s$ a $j$ disponibile fino a quel momento; si tratta del vertice *i* in cui ci si trovava quando è stata aggiunta in lista la coppia $(j, l_j)$.  \n",
    "\n",
    "Una volta terminato l'algoritmo l'ultima coppia estratta dalla lista sarà del tipo $(d,c)$ e si avrà ``Pred(d)=``$x_{r-1}$, cioè lo *shortest path* da *s* a *d* ha costo *c* e il vertice precedente a *d* in tale cammino è il vertice $x_{r-1}$; per determinare gli altri vertici del cammino si controlla prima ``Pred(``$x_{r-1}$``)`` e si prosegue poi a ritroso. \n",
    "\n",
    "Come già anticipato, l'Algoritmo di Dijkstra può anche essere modificato e ampliato per ottenere i primi *K* cammini meno costosi. In questo caso un elemento della lista è il vettore $(j, l, i, k')$: *j* rappresenta un nodo raggiungibile con un cammino di costo *l* a partire da *s* e il cui vertice precedente in tale cammino è il vertice i; $k'$ indica quale tra i cammini meno costosi è quello utilizzato per congiungere $s$ ad $i$. *Pred* diventa una matrice $n \\times K$. L'assegnazione $Pred(i, k_i)=(h, k')$ indica che il $k_iesimo$ miglior cammino trovato da *s* a *i* è ottenuto unendo l'arco $(h, i)$ al $k'-esimo$ miglior cammino da *s* a *h*. L'algoritmo diventa:  "
   ]
  },
  {
   "attachments": {},
   "cell_type": "markdown",
   "metadata": {},
   "source": [
    "![K-Shortest-Path](./Images/k-shortest.png)"
   ]
  },
  {
   "attachments": {},
   "cell_type": "markdown",
   "metadata": {},
   "source": [
    "My python implementation\n",
    "```python\n",
    "\n",
    "def K_Dijkstra(graph: Graph, start: int, destination: int, k: int):\n",
    "    \"\"\"_summary_\n",
    "\n",
    "    Args:\n",
    "        graph (Graph): Graph, where all the vertex are stored\n",
    "        start (int): starting Vertex\n",
    "        destination (int): destination Vertex\n",
    "        k (int): how many paths must be generated\n",
    "\n",
    "    Returns:\n",
    "        list(list): where all the k-paths are stored from start to destination \n",
    "    \"\"\"\n",
    "    paths = []\n",
    "    heap = [(0, [], start)]\n",
    "    while heap and len(paths) < k:\n",
    "        cost, path, current_node = heapq.heappop(heap)\n",
    "        path = path + [current_node]\n",
    "        if current_node and current_node == destination:\n",
    "            paths.append((path, cost))\n",
    "        elif graph.getVertex(current_node):\n",
    "            for neighbor, weight in graph.getVertex(current_node).getneighbors().items():\n",
    "                if neighbor.getVertex() not in path:\n",
    "                    heapq.heappush(heap, (cost + weight, path, neighbor.getVertex()))\n",
    "\n",
    "    return paths\n",
    "```"
   ]
  },
  {
   "cell_type": "code",
   "execution_count": 2,
   "metadata": {},
   "outputs": [],
   "source": [
    "file_list = ['./graphs/graph.csv', './graphs/graph2.csv', './graphs/graph3.csv', './graphs/graph4.csv', './graphs/USA-road-d.NY.csv']"
   ]
  },
  {
   "cell_type": "code",
   "execution_count": 4,
   "metadata": {},
   "outputs": [],
   "source": [
    "def fromPathToGraph(path:list):\n",
    "    G = nx.Graph()\n",
    "    for index in range(0, len(path)-1):\n",
    "        G.add_edge(path[index], path[index+1])\n",
    "    return G"
   ]
  },
  {
   "cell_type": "code",
   "execution_count": 5,
   "metadata": {},
   "outputs": [
    {
     "data": {
      "application/vnd.jupyter.widget-view+json": {
       "model_id": "1567a39164fa4e48a51e9e905b6c2b73",
       "version_major": 2,
       "version_minor": 0
      },
      "text/plain": [
       "interactive(children=(Dropdown(description='Graph:', options=('./graphs/graph.csv', './graphs/graph2.csv', './…"
      ]
     },
     "metadata": {},
     "output_type": "display_data"
    }
   ],
   "source": [
    "\n",
    "@interact(file=Dropdown(options=file_list, description='Graph:'),\n",
    "                    show=Checkbox(description=\"Plot the graph\"))\n",
    "def selectGraph(file, show): \n",
    "    df = pd.read_csv(file, header=0, names=['Start', 'Destination', 'Cost'])\n",
    "    G = nx.Graph()\n",
    "    G.add_nodes_from(df['Start'].unique())\n",
    "    if(show):\n",
    "        for index, row in df.iterrows():\n",
    "            G.add_edge(row['Start'], row['Destination'], weight=row['Cost'])\n",
    "        nx.draw_networkx(G, with_labels=True)\n",
    "    \n",
    "    #nx.draw_networkx_edge_labels(G, pos, edge_labels=labels)"
   ]
  },
  {
   "cell_type": "code",
   "execution_count": 6,
   "metadata": {},
   "outputs": [],
   "source": [
    "colors = [\"red\", \"orange\", \"yellow\", \"green\", \"cyan\", \"violet\"]\n",
    "l = len(colors)\n",
    "def plotWithImage(paths:list, G):\n",
    "    k=1\n",
    "    for path, cost in paths:\n",
    "        fig, ax = plt.subplots()\n",
    "        ax.set_title(f\"K={k} cost: {cost}\")\n",
    "        nx.draw_networkx(G, node_color=[colors[k % l] if node in path else \"blue\" for node in G], with_labels=True, ax=ax)\n",
    "        print(f\"K:{k} path {path} cost: {cost}\")\n",
    "        k+=1\n",
    "        \n",
    "        \n",
    "def plotWithoutImage(paths:list):\n",
    "    k = 1\n",
    "    for path, cost in paths:\n",
    "        print(f\"K:{k} path {path} cost: {cost}\")\n",
    "        k+=1\n",
    "        "
   ]
  },
  {
   "cell_type": "code",
   "execution_count": 7,
   "metadata": {},
   "outputs": [
    {
     "data": {
      "application/vnd.jupyter.widget-view+json": {
       "model_id": "b186508090e947a8b873697f99f80cd6",
       "version_major": 2,
       "version_minor": 0
      },
      "text/plain": [
       "interactive(children=(Dropdown(description='Graph:', options=('./graphs/graph.csv', './graphs/graph2.csv', './…"
      ]
     },
     "metadata": {},
     "output_type": "display_data"
    }
   ],
   "source": [
    "@interact(start=IntText(description='Start:'),\n",
    "          destination=IntText(description='Destination:'),\n",
    "          k=IntText(description='K:', value=1, min=1),\n",
    "          images=Checkbox(description=\"Plot the graph\"),\n",
    "          file=Dropdown(options=file_list, description='Graph:'))\n",
    "def viewKDijkstra(file, start, destination, k, images):\n",
    "    if start < 0 or destination < 0 or k < 0:\n",
    "        print(\"One of the value is negative, please check the input\")\n",
    "        return\n",
    "    df = pd.read_csv(file, header=0, names=['Start', 'Destination', 'Cost'])\n",
    "    G = nx.Graph()\n",
    "    df = pd.read_csv(file, header=0, names=['Start', 'Destination', 'Cost'])\n",
    "    G.add_nodes_from(df['Start'].unique())\n",
    "\n",
    "    for index, row in df.iterrows():\n",
    "        G.add_edge(row['Start'], row['Destination'], weight=row['Cost'])\n",
    "\n",
    "    graph = Graph()\n",
    "    with open(file, 'r') as file:\n",
    "        reader = csv.reader(file)\n",
    "        for row in reader:\n",
    "            v1 = int(row[0])\n",
    "            v2 = int(row[1])\n",
    "            cost = int(row[2])\n",
    "            graph.addArch(v1, v2, cost)\n",
    "    \n",
    "    paths = K_Dijkstra(graph, start=start, destination=destination, k=k)\n",
    "    if len(paths) > 0:\n",
    "        if images:\n",
    "            plotWithImage(paths, G)\n",
    "        else:\n",
    "            plotWithoutImage(paths)\n",
    "    else:\n",
    "        print(f\"The path does not exists, make sure that START: {start} and DESTINATION: {destination} exist inside the graph\")"
   ]
  },
  {
   "cell_type": "code",
   "execution_count": 109,
   "metadata": {},
   "outputs": [
    {
     "data": {
      "application/vnd.jupyter.widget-view+json": {
       "model_id": "caf30fc5eacd492f814265df23571929",
       "version_major": 2,
       "version_minor": 0
      },
      "text/plain": [
       "interactive(children=(Dropdown(description='Graph:', options=('./graphs/graph.csv', './graphs/graph2.csv', './…"
      ]
     },
     "metadata": {},
     "output_type": "display_data"
    }
   ],
   "source": [
    "@interact(file=Dropdown(options=file_list, description='Graph:'))\n",
    "def plotPerformance(file):\n",
    "\n",
    "    graph = Graph()\n",
    "    s = float('inf')\n",
    "    d = -1\n",
    "    with open(file, 'r') as file:\n",
    "        reader = csv.reader(file)\n",
    "        for row in reader:\n",
    "            v1 = int(row[0])\n",
    "            v2 = int(row[1])\n",
    "            cost = int(row[2])\n",
    "            s = min([v1, v2, s])\n",
    "            d = max([v1, v2, d])\n",
    "            graph.addArch(v1, v2, cost)\n",
    "    x = []\n",
    "    y = []\n",
    "    for k in range(1, 20):\n",
    "        start_t = time.time()\n",
    "        _ = K_Dijkstra(graph, start=s, destination=d, k=k)\n",
    "        end_t = time.time()\n",
    "        x.append(k)\n",
    "        y.append(end_t - start_t)\n",
    "        \n",
    "    cmap = plt.cm.get_cmap('jet')\n",
    "    norm = plt.Normalize(min(y), max(y))\n",
    "    colors = cmap(norm(y))\n",
    "\n",
    "    fig, (ax1, ax2) = plt.subplots(1, 2, figsize=(20, 8))\n",
    "\n",
    "    \n",
    "    ax1.plot(x, y, linewidth=2.0)\n",
    "    ax1.set(xlim=(min(x), max(x)),\n",
    "        ylim=(min(y), max(y)))\n",
    "    ax2.scatter(x=x, y=y, c=colors)\n",
    "    ax2.set_title(f\"Performance from {s} to {d}\")\n",
    "    ax1.set_title(f\"Performance from {s} to {d}\")\n",
    "\n",
    "    plt.show()\n",
    "\n",
    "    "
   ]
  }
 ],
 "metadata": {
  "kernelspec": {
   "display_name": "Python 3",
   "language": "python",
   "name": "python3"
  },
  "language_info": {
   "codemirror_mode": {
    "name": "ipython",
    "version": 3
   },
   "file_extension": ".py",
   "mimetype": "text/x-python",
   "name": "python",
   "nbconvert_exporter": "python",
   "pygments_lexer": "ipython3",
   "version": "3.10.6"
  },
  "orig_nbformat": 4
 },
 "nbformat": 4,
 "nbformat_minor": 2
}
