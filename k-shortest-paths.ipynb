{
 "cells": [
  {
   "attachments": {},
   "cell_type": "markdown",
   "metadata": {},
   "source": [
    "# K-Shortest Path using Dijkstra\n",
    "Sia dato un grafo orientato e pesato *G=(V,A)* con *n* vertici, numerati da 1 a *n*, e con archi *(i,j)* di costo non negativo $c_{ij}$. Supponiamo di voler determinare il cammino *P* di costo minimo dal vertice *s* al vertice *d*.\n",
    "\n",
    "L'algoritmo di **Dijkstra** si serve di una lista in cui vengono memorizzate le coppie vertice-costo $(i, l_i)$, dove *i* è un vertice raggiungibile tramite un cammino semplice con origine in *s* e di costo $l_i$.; per tenere traccia di tale cammino, viene memorizzato per ogni vertice *i* incluso in lista il vertice che lo precede nel cammino da *s* a *i*. \n",
    "\n",
    "La lista viene inizializzata inserendo la coppia $(s,0)$. Ad ogni iterazione viene estratta dalla lista la coppia $(i, l_i)$, con costo $l_i$ minore e e vengono presi in considerazione i vertici successivi a *i*, cioè i vertici *j* tali che $(i, j) \\in A$; se il vertice *j* non è già presente, in lista viene inserita la coppia $(i, l_i + c_{ij})$, altrimenti si confronta il costo appena ottenuto con quello che era stato precedentemente calcolato e si mantiene quello minore.\n",
    "\n",
    " L'algoritmo termina quando il vertice della coppia estratta dalla lista è il vertice *d*. \n",
    "\n",
    "\n",
    "\n",
    "Di seguito viene presentato in dettaglio l'Algoritmo di **Dijkstra**.  "
   ]
  },
  {
   "cell_type": "code",
   "execution_count": 2,
   "metadata": {},
   "outputs": [],
   "source": [
    "import heapq\n",
    "import numpy as np\n",
    "import csv\n",
    "from graph import Graph"
   ]
  },
  {
   "cell_type": "code",
   "execution_count": 3,
   "metadata": {},
   "outputs": [],
   "source": [
    "graph = Graph()"
   ]
  },
  {
   "cell_type": "code",
   "execution_count": 7,
   "metadata": {},
   "outputs": [
    {
     "ename": "TypeError",
     "evalue": "Vertex.__init__() takes 2 positional arguments but 3 were given",
     "output_type": "error",
     "traceback": [
      "\u001b[0;31m---------------------------------------------------------------------------\u001b[0m",
      "\u001b[0;31mTypeError\u001b[0m                                 Traceback (most recent call last)",
      "Cell \u001b[0;32mIn[7], line 7\u001b[0m\n\u001b[1;32m      5\u001b[0m v2 \u001b[39m=\u001b[39m \u001b[39mint\u001b[39m(row[\u001b[39m1\u001b[39m])\n\u001b[1;32m      6\u001b[0m cost \u001b[39m=\u001b[39m \u001b[39mint\u001b[39m(row[\u001b[39m2\u001b[39m])\n\u001b[0;32m----> 7\u001b[0m graph\u001b[39m.\u001b[39;49maddVertex(v1)\n\u001b[1;32m      8\u001b[0m \u001b[39mprint\u001b[39m(\u001b[39mf\u001b[39m\u001b[39m\"\u001b[39m\u001b[39mNode : Node1 \u001b[39m\u001b[39m{\u001b[39;00mv1\u001b[39m}\u001b[39;00m\u001b[39m, Node2 \u001b[39m\u001b[39m{\u001b[39;00mv2\u001b[39m}\u001b[39;00m\u001b[39m, Cost \u001b[39m\u001b[39m{\u001b[39;00mcost\u001b[39m}\u001b[39;00m\u001b[39m\"\u001b[39m)\n",
      "File \u001b[0;32m~/Desktop/Università/RicercaOperativa/graph.py:25\u001b[0m, in \u001b[0;36mGraph.addVertex\u001b[0;34m(self, vertex)\u001b[0m\n\u001b[1;32m     24\u001b[0m \u001b[39mdef\u001b[39;00m \u001b[39maddVertex\u001b[39m(\u001b[39mself\u001b[39m, vertex: \u001b[39mint\u001b[39m):\n\u001b[0;32m---> 25\u001b[0m     v \u001b[39m=\u001b[39m Vertex(vertex, {})\n\u001b[1;32m     26\u001b[0m     \u001b[39mself\u001b[39m\u001b[39m.\u001b[39mvertexs\u001b[39m.\u001b[39mappend(v)\n\u001b[1;32m     27\u001b[0m     \u001b[39mself\u001b[39m\u001b[39m.\u001b[39msize \u001b[39m+\u001b[39m\u001b[39m=\u001b[39m \u001b[39m1\u001b[39m\n",
      "\u001b[0;31mTypeError\u001b[0m: Vertex.__init__() takes 2 positional arguments but 3 were given"
     ]
    }
   ],
   "source": [
    "with open('graph.csv', 'r') as file:\n",
    "    reader = csv.reader(file)\n",
    "    for row in reader:\n",
    "        v1 = int(row[0])\n",
    "        v2 = int(row[1])\n",
    "        cost = int(row[2])\n",
    "        graph.addVertex(v1)\n",
    "        print(f\"Node : Node1 {v1}, Node2 {v2}, Cost {cost}\")"
   ]
  },
  {
   "attachments": {},
   "cell_type": "markdown",
   "metadata": {},
   "source": [
    "![Dijsktra](./Images/dijkstra.png)"
   ]
  },
  {
   "cell_type": "code",
   "execution_count": 3,
   "metadata": {},
   "outputs": [],
   "source": []
  },
  {
   "cell_type": "code",
   "execution_count": 7,
   "metadata": {},
   "outputs": [],
   "source": [
    "def Dijkstra(graph: Graph, start, destination):\n",
    "    l_s = 0\n",
    "    l_i = np.ones((1, graph.getSize())) * float('inf')\n",
    "    Pred = np.zeros((1, graph.getSize()))\n",
    "    heap = []\n",
    "    heapq.heapify(heap)\n",
    "    heapq.heappush(heap, (l_s, start))\n",
    "    curr_vertex = start\n",
    "    while curr_vertex.getVertex() != destination.getVertex():\n",
    "        cost, curr_vertex = heapq.heappop(heap)\n",
    "        if curr_vertex.getVertex() != destination.getVertex():\n",
    "            for neighboor in curr_vertex.getNeighboors():\n",
    "                n_vertex = neighboor.getVertex() \n",
    "                if l_i[n_vertex] > l_i[curr_vertex.getVertex()] + curr_vertex.getCost(n_vertex):\n",
    "                    l_i[n_vertex] = l_i[curr_vertex.getVertex()] +  curr_vertex.getCost(n_vertex)\n",
    "                    heapq.heappush(heap, (l_i[n_vertex], neighboor))\n",
    "                    Pred[n_vertex] = curr_vertex\n",
    "                    \n",
    "    \n",
    "    def build_path(vrtx: Vertex, path: list):\n",
    "        if (vrtx == destination) or (vrtx != start):\n",
    "            path.append(vrtx)\n",
    "            pred = Pred[vrtx.getVertex()]\n",
    "            return build_path(pred, path)\n",
    "        else:\n",
    "            path.append(vrtx)\n",
    "            return path\n",
    "    \n",
    "    return build_path(destination, [])\n",
    "\n"
   ]
  },
  {
   "cell_type": "code",
   "execution_count": null,
   "metadata": {},
   "outputs": [],
   "source": [
    "\"\"\"\n",
    "cost, curr_vertex = heapq.heappop(heap)\n",
    "if curr_vertex != destination:\n",
    "    # for all the nodes connected to curr_vertex\n",
    "    curr_index = vertex.index(curr_vertex)\n",
    "    for neighboor in archs[curr_index, :]:\n",
    "        if(neighboor >= 0):\n",
    "            neigh_index = vertex.index(neighboor)\n",
    "            if l_i[neigh_index] > l_i[curr_index] + costs[curr_vertex, neighboor]:\n",
    "                l_i[neigh_index] = l_i[curr_index] + costs[curr_vertex, neighboor]\n",
    "                heapq.heappush(heap, (l_i[neigh_index], neighboor))\n",
    "                Pred[neigh_index] = curr_vertex\n",
    "\n",
    "def build_path(vrtx: int, path: list):\n",
    "if (vrtx == destination) or (vrtx != start):\n",
    "    path.append(vrtx)\n",
    "    pred = Pred[vertex.index(vrtx)]\n",
    "    return build_path(pred, path)\n",
    "else:\n",
    "    path.append(vrtx)\n",
    "    return path\n",
    "\n",
    "\n",
    "return build_path(destination, [])\n",
    "\"\"\""
   ]
  },
  {
   "attachments": {},
   "cell_type": "markdown",
   "metadata": {},
   "source": [
    "La funzione ``Heap.Empty()`` crea una lista vuota. La funzione ``Heap.Pop()`` estrae dalla lista la coppia $(j, l_j)$ con $l_j$ minore. La funzione ``Heap.Push``$(j, l_j)$ inserisce la coppia $(j, l_j)$ in lista; nel caso in lista sia già presente una coppia $(j, l_j'$) si mantiene solo il valore minore tra: $l_j$ e $l_j'$. \n",
    "\n",
    "In ``Pred(j)`` si memoriza il vertice che precede $j$ nel cammino di costo minore da $s$ a $j$ disponibile fino a quel momento; si tratta del vertice *i* in cui ci si trovava quando è stata aggiunta in lista la coppia $(j, l_j)$.  \n",
    "\n",
    "Una volta terminato l'algoritmo l'ultima coppia estratta dalla lista sarà del tipo $(d,c)$ e si avrà ``Pred(d)=``$x_{r-1}$, cioè lo *shortest path* da *s* a *d* ha costo *c* e il vertice precedente a *d* in tale cammino è il vertice $x_{r-1}$; per determinare gli altri vertici del cammino si controlla prima ``Pred(``$x_{r-1}$``)`` e si prosegue poi a ritroso. \n",
    "\n",
    "Come già anticipato, l'Algoritmo di Dijkstra può anche essere modificato e ampliato per ottenere i primi *K* cammini meno costosi. In questo caso un elemento della lista è il vettore $(j, l, i, k')$: *j* rappresenta un nodo raggiungibile con un cammino di costo *l* a partire da *s* e il cui vertice precedente in tale cammino è il vertice i; $k'$ indica quale tra i cammini meno costosi è quello utilizzato per congiungere $s$ ad $i$. *Pred* diventa una matrice $n \\times K$. L'assegnazione $Pred(i, k_i)=(h, k')$ indica che il $k_iesimo$ miglior cammino trovato da *s* a *i* è ottenuto unendo l'arco $(h, i)$ al $k'-esimo$ miglior cammino da *s* a *h*. L'algoritmo diventa:  "
   ]
  },
  {
   "attachments": {},
   "cell_type": "markdown",
   "metadata": {},
   "source": [
    "![K-Shortest-Path](./Images/k-shortest.png)"
   ]
  }
 ],
 "metadata": {
  "kernelspec": {
   "display_name": "Python 3",
   "language": "python",
   "name": "python3"
  },
  "language_info": {
   "codemirror_mode": {
    "name": "ipython",
    "version": 3
   },
   "file_extension": ".py",
   "mimetype": "text/x-python",
   "name": "python",
   "nbconvert_exporter": "python",
   "pygments_lexer": "ipython3",
   "version": "3.10.6"
  },
  "orig_nbformat": 4
 },
 "nbformat": 4,
 "nbformat_minor": 2
}
